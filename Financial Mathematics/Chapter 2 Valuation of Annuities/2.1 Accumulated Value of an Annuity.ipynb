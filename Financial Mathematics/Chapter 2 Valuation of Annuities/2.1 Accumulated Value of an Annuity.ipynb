{
 "cells": [
  {
   "cell_type": "markdown",
   "metadata": {},
   "source": [
    "#### VOCABULARY and DENOTATIONS\n",
    "\n",
    "**Term of Annuity** := The number of payments in the series.\n",
    "\n",
    "**Payment Period | Frequency** := The time between successive payments"
   ]
  },
  {
   "cell_type": "markdown",
   "metadata": {},
   "source": [
    "#### ALGEBRAIC EXPRESSIONS\n",
    "\n",
    "**$s_{n|i}$** = $(1+i)^{n-i} + (1+i)^{n-2}+...+(1+i)+1 = \\sum_{t=0}^{n-1} (1+i)^t = \\frac{(1+i)^n-1}{i}$\n",
    "\n",
    "1. The interest rate is constant at $i$ per payment period for the full term of the annuity\n",
    "2. The payments are of equal amount\n",
    "3. The payments are made at equal intervals of time, with the same frequency as the interest rate is compounded\n",
    "4. The accumulated value is found at the time of and including the final payment"
   ]
  },
  {
   "cell_type": "markdown",
   "metadata": {},
   "source": []
  }
 ],
 "metadata": {
  "language_info": {
   "name": "python"
  }
 },
 "nbformat": 4,
 "nbformat_minor": 2
}
