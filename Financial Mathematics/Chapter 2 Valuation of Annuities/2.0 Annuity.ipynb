{
 "cells": [
  {
   "cell_type": "markdown",
   "metadata": {},
   "source": [
    "#### VOCABULARY and DENOTATIONS\n",
    "\n",
    "**Annuity** := The generic term used to describe a series of periodic payments. For a series of non-contingent payments in particular, we sometimes use the term **annuity-certain**."
   ]
  },
  {
   "cell_type": "markdown",
   "metadata": {},
   "source": [
    "#### KEY ALGEBRAIC IDEAS\n",
    "\n",
    "**Geometric Series Summation** := $1+x+x^2+...+x^k=\\frac{1-x^{k+1}}{1-x}=\\frac{x^{k+1}-1}{x-1}$"
   ]
  },
  {
   "cell_type": "markdown",
   "metadata": {},
   "source": []
  }
 ],
 "metadata": {
  "language_info": {
   "name": "python"
  }
 },
 "nbformat": 4,
 "nbformat_minor": 2
}
