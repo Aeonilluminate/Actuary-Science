{
 "cells": [
  {
   "cell_type": "markdown",
   "metadata": {},
   "source": [
    "#### Vocabulary\n",
    "\n",
    "**Average Annual Return** := The annual compound rate of interest for the period of years being considered.\n",
    "\n",
    "- *Example*: Consider the following compounding interest expression $(1=0.00)(1+.1808)(1+.1338)(1+.3357)(1+.1414)=2.0411$ \\\n",
    "The average rate of return is $i$ such that $(1+i)^5 = 2.0411$\n",
    "\n",
    "**Annual Effective Rate of Interest** := The percentage change in the value of the investment from the beginning to the end of the year, \\\n",
    "without regard to the investment behavior at intermediate points in the year.\n",
    "\n",
    "- *Example*: At an interest rate of $.75\\%$ per month on a bank account, the growth factor for a one-year period at this rate is \\\n",
    "$(1.0075)^{12}=1.0938$. Hence, the account earns $9.38\\%$ over the full year.\n",
    "\n",
    "**Equivalent Rates of Interest** := Two rates of interest are said to be *equivalent* if they result in the same accumulated \\\n",
    "values at each point in time.\n",
    "\n",
    "- *Example*: For an integer number of years, a month-by-month accumulation at a monthly rate of %0.75\\%$ is *equivalent* to \\\n",
    "annual compounding at an annual rate of $9.38\\%$."
   ]
  },
  {
   "cell_type": "markdown",
   "metadata": {},
   "source": [
    "#### Insights\n",
    "\n",
    "* Interest rates are typically quoted as an annual percentage.\n",
    "\n",
    "* By convention, as interest is credited or paid, it is reinvested. This reinvesting of interest leads to the process of compounding interest.\n",
    "\n",
    "* Many bank accounts pay interest monthly and credit cards generall charge interest monthly on unpaid balances.\n",
    "\n",
    "* By convention, we use $i$ to denote annual rate of interest, and $j$ to denote an interest rate for a period of time other than a year.\n",
    "\n",
    "* When compound interest is in effect, and deposits and withdrawals are occuring in an account, the resulting balance at some future point in \\\n",
    "time can be determined by accumulating all individual transactions to that future time point."
   ]
  },
  {
   "cell_type": "markdown",
   "metadata": {},
   "source": [
    "---\n",
    "#### FUNCTIONS"
   ]
  },
  {
   "cell_type": "code",
   "execution_count": 4,
   "metadata": {},
   "outputs": [],
   "source": [
    "def calculate_return(credit_rate, years, annual_credit_frequency, principal=1):\n",
    "    return (1 + credit_rate/100)**(years*annual_credit_frequency)\n",
    "\n",
    "\n",
    "def average_annual_return(final_return, years):\n",
    "    return final_return**(1/years) - 1"
   ]
  },
  {
   "cell_type": "code",
   "execution_count": 6,
   "metadata": {},
   "outputs": [
    {
     "name": "stdout",
     "output_type": "stream",
     "text": [
      "1.0938068976709838\n",
      "0.1533811691044895\n"
     ]
    }
   ],
   "source": [
    "print(calculate_return(credit_rate=.75, years=1, annual_credit_frequency=12))\n",
    "\n",
    "print(average_annual_return(final_return=2.0411, years=5))"
   ]
  },
  {
   "cell_type": "code",
   "execution_count": null,
   "metadata": {},
   "outputs": [],
   "source": []
  }
 ],
 "metadata": {
  "kernelspec": {
   "display_name": "ML_env",
   "language": "python",
   "name": "python3"
  },
  "language_info": {
   "codemirror_mode": {
    "name": "ipython",
    "version": 3
   },
   "file_extension": ".py",
   "mimetype": "text/x-python",
   "name": "python",
   "nbconvert_exporter": "python",
   "pygments_lexer": "ipython3",
   "version": "3.12.1"
  }
 },
 "nbformat": 4,
 "nbformat_minor": 2
}
