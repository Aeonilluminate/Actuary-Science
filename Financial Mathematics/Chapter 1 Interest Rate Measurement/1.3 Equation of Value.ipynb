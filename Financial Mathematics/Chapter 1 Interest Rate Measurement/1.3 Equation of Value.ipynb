{
 "cells": [
  {
   "cell_type": "markdown",
   "metadata": {},
   "source": [
    "#### VOCABULARY\n",
    "\n",
    "**Equation of Value** := A mathematical representation of a transaction which balances the dated cash outflows and inflows, according to the particulars of the transaction including the \"time values\" of these payments, which are the accumulated and present values of the payments made at the various time points.\n",
    "\n",
    "* To formulate an equation of value, it is necessary to choose a reference time point or valuation date. Once decided, the equation of value balances the following two factors:\n",
    "\n",
    "    1. The accumulated value of all payments already disbursed plus the present value of all payments yet to be disbursed.\n",
    "\n",
    "    2. The accumulated value of all payments already received plus the present value of all payments yet to be received."
   ]
  },
  {
   "cell_type": "markdown",
   "metadata": {},
   "source": []
  }
 ],
 "metadata": {
  "language_info": {
   "name": "python"
  }
 },
 "nbformat": 4,
 "nbformat_minor": 2
}
