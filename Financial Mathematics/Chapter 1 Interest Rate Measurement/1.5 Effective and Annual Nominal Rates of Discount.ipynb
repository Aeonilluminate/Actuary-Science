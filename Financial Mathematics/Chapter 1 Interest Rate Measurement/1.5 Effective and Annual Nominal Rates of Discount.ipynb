{
 "cells": [
  {
   "cell_type": "markdown",
   "metadata": {},
   "source": [
    "#### VOCABULARY and DENOTATION\n",
    "\n",
    "**Rate of Discount** := Sometimes, when a loan is issued, the interest is \"payable in advance\", meaning that the borrower must pay the interest rate of the loan upon recieving the loan. For example, suppose Smith borrows \\$1000 quoated at 10% interest payable in advance. Then Smith must pay the lender \\$100 upfront to borrow the \\$1000. At the end of the loan period, he must repay the \\$1000. The annual effective rate for this transaction is $\\frac{100}{900}=11.11\\%$ The rate quoted as interest payable in advance is known as the **rate of discount**\n",
    "\n",
    "* Annual effective rate of discount from $t=0$ to $t=1$ can be expressed as: $d = \\frac{A(1)-A(0)}{A(1)}$\n",
    "\n",
    "**Nominal Annual Rate of Discount** := A nominal annual rate of discount compounded $m$ times per year refers to a discount compounding period of $\\frac{1}{m}$ years."
   ]
  },
  {
   "cell_type": "markdown",
   "metadata": {},
   "source": [
    "---\n",
    "#### INSIGHTS\n",
    "\n",
    "* Note that $d = \\frac{A(1)-A(0)}{A(1)}$ can be reformulated as $A(0) = A(1)\\times(1-d)$, and hence $1-d$ is the present value factor. Thus $\\frac{1}{1+i} = v = 1-d$\n",
    "\n",
    "* Equivalent rates of interest and discount $i$ and $d$ are related as follows: $d=\\frac{i}{i+1}$ and $i=\\frac{d}{1-d}$\n",
    "\n",
    "* If $d$ is the equivalent annual effective rate of discount, then we have the relationship $1-d = (1-\\frac{d^{(m)}}{m})^m$"
   ]
  },
  {
   "cell_type": "markdown",
   "metadata": {},
   "source": [
    "---\n",
    "#### FUNCTIONS and GRAPHS"
   ]
  },
  {
   "cell_type": "code",
   "execution_count": null,
   "metadata": {
    "vscode": {
     "languageId": "plaintext"
    }
   },
   "outputs": [],
   "source": []
  }
 ],
 "metadata": {
  "language_info": {
   "name": "python"
  }
 },
 "nbformat": 4,
 "nbformat_minor": 2
}
