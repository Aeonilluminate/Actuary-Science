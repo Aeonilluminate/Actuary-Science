{
 "cells": [
  {
   "cell_type": "markdown",
   "metadata": {},
   "source": [
    "#### VOCABULARY and DENOTATIONS\n",
    "\n",
    "**Consumer Price Index (CPI)** := A measurement of the annual rate of change in the cost of a specified \"basket\" of consumer items.\n",
    "\n",
    "**Real Rate of Interest** := With annual interest rate $i$ and annual inflaction rate $r$, the real rate of interest for the year is \\ $i_\\text{real} = \\frac{\\text{value of amount of real return}}{\\text{value of invested amount}} = \\frac{i - r}{1 + r}$"
   ]
  },
  {
   "cell_type": "markdown",
   "metadata": {},
   "source": [
    "---\n",
    "#### INSIGHTS"
   ]
  },
  {
   "cell_type": "markdown",
   "metadata": {},
   "source": [
    "---\n",
    "#### FUNCTIONS and GRAPHS"
   ]
  },
  {
   "cell_type": "markdown",
   "metadata": {},
   "source": []
  }
 ],
 "metadata": {
  "language_info": {
   "name": "python"
  }
 },
 "nbformat": 4,
 "nbformat_minor": 2
}
