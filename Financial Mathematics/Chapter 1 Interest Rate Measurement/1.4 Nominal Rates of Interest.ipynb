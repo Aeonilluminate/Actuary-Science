{
 "cells": [
  {
   "cell_type": "markdown",
   "metadata": {},
   "source": [
    "#### VOCABULARY\n",
    "\n",
    "**Nominal Annual Rate of Interest** := A nominal annual rate of interest compounded or convertible $m$ times \\\n",
    "per year referes to an interest compounding period of $\\frac{1}{m}$ years. Interest rate for $\\frac{1}{m}$ year period = $\\frac{\\text{quoted nominal interest rate}}{m}$\n",
    "\n",
    "**Annual Percentage Rate (APR)** := Another way generally refer to a **nominal annual interest rate**."
   ]
  },
  {
   "cell_type": "markdown",
   "metadata": {},
   "source": [
    "---\n",
    "#### INSIGHTS\n",
    "\n",
    "* Consider a credit card which reports 29% **APR**. This is a nominal interest rate typically compounding monthly. Thus, every month an interest rate of $\\frac{29}{12}=2.4167\\%$ interest is accrued from unpaid balances. This means that the **annual effective rate** of interest is \\\n",
    " $1 - (1+0.024167)^{12}=33.18\\%$"
   ]
  },
  {
   "cell_type": "markdown",
   "metadata": {},
   "source": []
  }
 ],
 "metadata": {
  "language_info": {
   "name": "python"
  }
 },
 "nbformat": 4,
 "nbformat_minor": 2
}
