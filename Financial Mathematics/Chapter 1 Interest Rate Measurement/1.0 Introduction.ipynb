{
 "cells": [
  {
   "cell_type": "markdown",
   "metadata": {},
   "source": [
    "#### Vocabulary\n",
    "\n",
    "**Interest** := \"Time Value of Money\"; consideration or rent paid by a borrower of money to a lender for the use of the money over a period of time.\n",
    "\n",
    "**Prime Rate** := The interest rate that banks charge on lended funds to their most creditworthy customers\n",
    "\n",
    "**ARM** := Adjustable Rate Mortgage - a loan whose interest rate is periodically reset based on changes in market interest rates."
   ]
  },
  {
   "cell_type": "markdown",
   "metadata": {},
   "source": [
    "#### Insights\n",
    "\n",
    "Initial Hypothesis: Higher interest rates tend to reduce the value of other investmenets, if for no other reason than that the increased attraction of investing at a higher rate of interest makes another investment earning a lower rate relatively less attractive."
   ]
  },
  {
   "cell_type": "markdown",
   "metadata": {},
   "source": []
  }
 ],
 "metadata": {
  "language_info": {
   "name": "python"
  }
 },
 "nbformat": 4,
 "nbformat_minor": 2
}
