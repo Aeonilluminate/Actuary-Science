{
 "cells": [
  {
   "cell_type": "markdown",
   "metadata": {},
   "source": [
    "#### VOCABULARY and DENOTATION\n",
    "\n",
    "**Force of Interest** := For an investment that grows according to accumulated amount function $A(t)$, the forst of interest at time $t$, is defined to be $\\delta_t=\\frac{A'(t)}{A(t)}=\\frac{d}{dt}\\ln[A(t)]$\n",
    "\n",
    "* Integrating this equation from time $t=0$ to $t=n$, we get \\\n",
    "$\\int_0^n\\delta_t dt=\\int_0^n\\frac{d}{dt}\\ln[A(t)]dt=\\ln[A(n)]-\\ln[A(0)]=\\ln[\\frac{A(n)}{A(0)}]$\n",
    "Exponentiating both sides yields $e^{\\int_0^n\\delta_t dt} = \\frac{A(n)}{A(0)}$ \n",
    "Which has two useful reformulations:\n",
    "    1. $A(n) = A(0)\\times e^{\\int_0^n\\delta_t dt}$\n",
    "    2. $A(0) = A(n)\\times e^{-\\int_0^n\\delta_t dt}$\n",
    "\n",
    "\n",
    "* A constant annual effective interest rate $i$ is equivalent to constant force of interest $\\delta$ according to the relationship $1 + i = e^\\delta$, or equivalently, $\\delta = \\ln(1 + i)$"
   ]
  },
  {
   "cell_type": "markdown",
   "metadata": {},
   "source": [
    "---\n",
    "#### INSIGHTS\n",
    "\n",
    "* The general form of the accumulation factor from time $t=n_1$ to time $t=n_2$ (where $n_1 \\le n_2$) is $e^{\\int_{n_1}^{n_2} \\delta_t dt}$ and the general form of the present value factor for the same period of time is $e^{-\\int_{n_1}^{n_2}\\delta_t dt}$."
   ]
  },
  {
   "cell_type": "markdown",
   "metadata": {},
   "source": [
    "---\n",
    "#### FUNCTIONS and GRAPHS"
   ]
  },
  {
   "cell_type": "markdown",
   "metadata": {},
   "source": []
  }
 ],
 "metadata": {
  "language_info": {
   "name": "python"
  }
 },
 "nbformat": 4,
 "nbformat_minor": 2
}
